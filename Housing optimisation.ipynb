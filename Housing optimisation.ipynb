{
  "nbformat": 4,
  "nbformat_minor": 0,
  "metadata": {
    "colab": {
      "provenance": []
    },
    "kernelspec": {
      "name": "python3",
      "display_name": "Python 3"
    },
    "language_info": {
      "name": "python"
    }
  },
  "cells": [
    {
      "cell_type": "code",
      "source": [
        "!pip install pyomo"
      ],
      "metadata": {
        "colab": {
          "base_uri": "https://localhost:8080/"
        },
        "collapsed": true,
        "id": "bFDytMfZ-Epi",
        "outputId": "acd5227a-7cf0-41e7-f631-14846dca0646"
      },
      "execution_count": null,
      "outputs": [
        {
          "output_type": "stream",
          "name": "stdout",
          "text": [
            "Collecting pyomo\n",
            "  Downloading Pyomo-6.8.0-cp310-cp310-manylinux_2_17_x86_64.manylinux2014_x86_64.whl.metadata (8.0 kB)\n",
            "Collecting ply (from pyomo)\n",
            "  Downloading ply-3.11-py2.py3-none-any.whl.metadata (844 bytes)\n",
            "Downloading Pyomo-6.8.0-cp310-cp310-manylinux_2_17_x86_64.manylinux2014_x86_64.whl (13.3 MB)\n",
            "\u001b[2K   \u001b[90m━━━━━━━━━━━━━━━━━━━━━━━━━━━━━━━━━━━━━━━━\u001b[0m \u001b[32m13.3/13.3 MB\u001b[0m \u001b[31m80.8 MB/s\u001b[0m eta \u001b[36m0:00:00\u001b[0m\n",
            "\u001b[?25hDownloading ply-3.11-py2.py3-none-any.whl (49 kB)\n",
            "\u001b[2K   \u001b[90m━━━━━━━━━━━━━━━━━━━━━━━━━━━━━━━━━━━━━━━━\u001b[0m \u001b[32m49.6/49.6 kB\u001b[0m \u001b[31m2.9 MB/s\u001b[0m eta \u001b[36m0:00:00\u001b[0m\n",
            "\u001b[?25hInstalling collected packages: ply, pyomo\n",
            "Successfully installed ply-3.11 pyomo-6.8.0\n"
          ]
        }
      ]
    },
    {
      "cell_type": "code",
      "source": [
        "!pip install gurobipy"
      ],
      "metadata": {
        "colab": {
          "base_uri": "https://localhost:8080/"
        },
        "collapsed": true,
        "id": "z9yUoY_QDgqk",
        "outputId": "60d60689-0d7a-4fc0-8e52-ef13d5209e8d"
      },
      "execution_count": null,
      "outputs": [
        {
          "output_type": "stream",
          "name": "stdout",
          "text": [
            "Requirement already satisfied: gurobipy in /usr/local/lib/python3.10/dist-packages (11.0.3)\n"
          ]
        }
      ]
    },
    {
      "cell_type": "code",
      "execution_count": null,
      "metadata": {
        "id": "bbJIkFuD9ULX"
      },
      "outputs": [],
      "source": [
        "import pandas as pd\n",
        "import gurobipy\n",
        "from pyomo.environ import *"
      ]
    },
    {
      "cell_type": "code",
      "source": [
        "file_path = '/content/Housing Problem - parameter values.xlsx'\n",
        "\n",
        "apartments = pd.read_excel(file_path, sheet_name = 'number_of_apartments')\n",
        "profit_height_69 = pd.read_excel(file_path, sheet_name = 'profit_height_69')\n",
        "profit_height_120 = pd.read_excel(file_path, sheet_name = 'profit_height_120')\n",
        "profit_height_168 = pd.read_excel(file_path, sheet_name = 'profit_height_168')"
      ],
      "metadata": {
        "id": "-CcN9OJJ9ej8"
      },
      "execution_count": null,
      "outputs": []
    },
    {
      "cell_type": "code",
      "source": [
        "profits = {\n",
        "    23: profit_height_69,\n",
        "    40: profit_height_120,\n",
        "    56: profit_height_168\n",
        "}"
      ],
      "metadata": {
        "id": "y1fOPvpDk9HX"
      },
      "execution_count": null,
      "outputs": []
    },
    {
      "cell_type": "markdown",
      "source": [
        "\n",
        "\n",
        "---\n",
        "\n",
        "\n",
        "\n",
        "---\n",
        "\n",
        "\n",
        "\n",
        "---\n",
        "\n",
        "\n",
        "\n",
        "---\n",
        "\n"
      ],
      "metadata": {
        "id": "pNXa66S_kjPr"
      }
    },
    {
      "cell_type": "code",
      "source": [
        "def create_model(floors, profit_df, apartments_df):\n",
        "    model = ConcreteModel()\n",
        "\n",
        "    # Sets\n",
        "    sectors = ['social', 'middle', 'free']\n",
        "    areas = [36, 42, 48, 52, 60, 68, 70, 71, 96, 131]\n",
        "    owners = ['corporation', 'investor', 'private']\n",
        "    configurations = ['aa', 'ab', 'ac', 'bb', 'bc', 'cc', 'cd', 'ce', 'dd', 'de', 'ee']\n",
        "\n",
        "    # Parameters\n",
        "    model.K = floors\n",
        "    model.R = apartments_df.set_index(['area', 'configuration']).to_dict()['no_of_apartments']\n",
        "    model.O = profit_df.set_index(['sector', 'area', 'owner']).to_dict()['profit']\n",
        "\n",
        "    # Minimal floor area for sector and owner (α_ih)\n",
        "    alpha = {\n",
        "        ('social', 'corporation'): 40,\n",
        "        ('middle', 'corporation'): 50,\n",
        "        ('free', 'investor'): 60\n",
        "    }\n",
        "\n",
        "    # Minimum percentage of apartments for each sector\n",
        "    beta = {\n",
        "        'social': 0.4,\n",
        "        'middle': 0.4,\n",
        "        'free': 0\n",
        "    }\n",
        "\n",
        "    # Minimum average floor area for each sector\n",
        "    delta = {\n",
        "        'social': 40,\n",
        "        'middle': 50,\n",
        "        'free': 0\n",
        "    }\n",
        "\n",
        "    # Minimum percentage of apartments for each owner\n",
        "    gamma = {\n",
        "        'corporation': 0,\n",
        "        'investor': 0.7,\n",
        "        'private': 0\n",
        "    }\n",
        "\n",
        "    # Variables\n",
        "    model.X = Var(configurations, domain=NonNegativeIntegers)  # Number of floors with configuration v\n",
        "    model.Y = Var(sectors, areas, owners, domain=NonNegativeIntegers)  # Number of apartments in sector i with floor area j and owner h\n",
        "    model.W = Var(configurations, owners, domain=NonNegativeIntegers)  # Number of floors of type v with owner h\n",
        "    model.Z = Var(areas, owners, domain=NonNegativeIntegers)  # Number of apartments with floor area j and owner h\n",
        "\n",
        "    # Objective: Maximize profit\n",
        "    model.obj = Objective(expr=sum(model.O[(i, j, h)] * model.Y[i, j, h] for i in sectors for j in areas for h in owners), sense=maximize)\n",
        "\n",
        "    # Constraints\n",
        "    # 1. Total number of floors\n",
        "    model.floor_constraint = Constraint(expr=sum(model.X[v] for v in configurations) == model.K)\n",
        "\n",
        "    # 2. Total apartments consistency\n",
        "    def total_apartments_rule(model, j):\n",
        "        return sum(model.R[(j, v)] * model.X[v] for v in configurations) == sum(model.Y[i, j, h] for i in sectors for h in owners)\n",
        "    model.total_apartments = Constraint(areas, rule=total_apartments_rule)\n",
        "\n",
        "    # 3. Owner floor configuration\n",
        "    def owner_floor_configuration_rule(model, v):\n",
        "        return sum(model.W[v, h] for h in owners) == model.X[v]\n",
        "    model.owner_floor_configuration = Constraint(configurations, rule=owner_floor_configuration_rule)\n",
        "\n",
        "    # 4. No floors with multiple owners\n",
        "    def no_multiple_owners_rule(model, j, h):\n",
        "        return model.Z[j, h] == sum(model.W[v, h] * model.R[(j, v)] for v in configurations)\n",
        "    model.no_multiple_owners = Constraint(areas, owners, rule=no_multiple_owners_rule)\n",
        "\n",
        "    # 5. Apartments by owner and area\n",
        "    def apartments_by_owner_area_rule(model, j, h):\n",
        "        return model.Z[j, h] == sum(model.Y[i, j, h] for i in sectors)\n",
        "    model.apartments_by_owner_area = Constraint(areas, owners, rule=apartments_by_owner_area_rule)\n",
        "\n",
        "    # 6. Minimal percentage of a sector in total program\n",
        "    def minimal_sector_percentage_rule(model, i):\n",
        "        return sum(model.Y[i, j, h] for j in areas for h in owners) >= beta[i] * sum(model.Y[l, j, h] for l in sectors for j in areas for h in owners)\n",
        "    model.minimal_sector_percentage = Constraint(sectors, rule=minimal_sector_percentage_rule)\n",
        "\n",
        "    # 7. Minimal average floor area of apartments in a sector\n",
        "    def minimal_avg_area_rule(model, i):\n",
        "        if delta[i] > 0:\n",
        "            return sum(j * model.Y[i, j, h] for j in areas for h in owners) >= delta[i] * sum(model.Y[i, j, h] for j in areas for h in owners)\n",
        "        else:\n",
        "            return Constraint.Skip\n",
        "    model.minimal_avg_area = Constraint(sectors, rule=minimal_avg_area_rule)\n",
        "\n",
        "    # 8. Minimal floor area for a sector and owner\n",
        "    def min_floor_area_rule(model, i, j, h):\n",
        "        if (i, h) in alpha:\n",
        "            return model.Y[i, j, h] == 0 if j < alpha[(i, h)] else Constraint.Skip\n",
        "        else:\n",
        "            return Constraint.Skip\n",
        "    model.min_floor_area = Constraint(sectors, areas, owners, rule=min_floor_area_rule)\n",
        "\n",
        "    # 9. No free sector apartments for housing corporation\n",
        "    def no_free_apartments_corporation_rule(model, j):\n",
        "        return model.Y['free', j, 'corporation'] == 0\n",
        "    model.no_free_apartments_corporation = Constraint(areas, rule=no_free_apartments_corporation_rule)\n",
        "\n",
        "    # 10. Sector ownership requirement (investor must own at least 70%)\n",
        "    def sector_ownership_requirement_rule(model, h):\n",
        "        if gamma[h] > 0:\n",
        "            return sum(model.Y[i, j, h] for i in sectors for j in areas) >= gamma[h] * sum(model.Y[i, j, p] for i in sectors for j in areas for p in owners)\n",
        "        else:\n",
        "            return Constraint.Skip\n",
        "    model.sector_ownership_requirement = Constraint(owners, rule=sector_ownership_requirement_rule)\n",
        "\n",
        "    solver = SolverFactory('gurobi')\n",
        "    results = solver.solve(model)\n",
        "\n",
        "    total_profit = model.obj()\n",
        "    return total_profit, results\n",
        "\n",
        "\n"
      ],
      "metadata": {
        "id": "fV8ICqK_kj_y"
      },
      "execution_count": null,
      "outputs": []
    },
    {
      "cell_type": "code",
      "source": [
        "# solve for each building height\n",
        "for height, profit_df in profits.items():\n",
        "    print(f\"Solving for height {height} floors\")\n",
        "    profit, _ = create_model(height, profit_df, apartments)\n",
        "    print(f\"Total profit for {height} floors: {profit}\")"
      ],
      "metadata": {
        "colab": {
          "base_uri": "https://localhost:8080/"
        },
        "id": "NaCTiZ60ml6F",
        "outputId": "3af1675b-e219-4e62-b8da-fa1f76324425"
      },
      "execution_count": null,
      "outputs": [
        {
          "output_type": "stream",
          "name": "stdout",
          "text": [
            "Solving for height 23 floors\n",
            "Total profit for 23 floors: 17483910.863021515\n",
            "Solving for height 40 floors\n",
            "Total profit for 40 floors: 29622229.854210615\n",
            "Solving for height 56 floors\n",
            "Total profit for 56 floors: 39187429.27353782\n"
          ]
        }
      ]
    }
  ]
}